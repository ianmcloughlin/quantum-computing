{
 "cells": [
  {
   "cell_type": "markdown",
   "id": "e76370b4-74f8-4469-9de4-01cdac25b7d8",
   "metadata": {},
   "source": [
    "# Quantum Computing Tests"
   ]
  },
  {
   "cell_type": "code",
   "execution_count": 2,
   "id": "a829fdc3-6850-4058-a20d-d8070775aeaf",
   "metadata": {},
   "outputs": [],
   "source": [
    "import numpy"
   ]
  },
  {
   "cell_type": "code",
   "execution_count": 3,
   "id": "09789423-4d35-4dcf-ac0f-cf2d01051455",
   "metadata": {},
   "outputs": [],
   "source": [
    "import qiskit"
   ]
  },
  {
   "cell_type": "code",
   "execution_count": null,
   "id": "d549e64e-6f77-4ad8-9d29-ba35a48b2e84",
   "metadata": {},
   "outputs": [],
   "source": [
    "qiskit."
   ]
  }
 ],
 "metadata": {
  "kernelspec": {
   "display_name": "Python 3 (ipykernel)",
   "language": "python",
   "name": "python3"
  },
  "language_info": {
   "codemirror_mode": {
    "name": "ipython",
    "version": 3
   },
   "file_extension": ".py",
   "mimetype": "text/x-python",
   "name": "python",
   "nbconvert_exporter": "python",
   "pygments_lexer": "ipython3",
   "version": "3.9.7"
  }
 },
 "nbformat": 4,
 "nbformat_minor": 5
}
