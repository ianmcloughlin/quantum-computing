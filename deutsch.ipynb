{
 "cells": [
  {
   "cell_type": "markdown",
   "id": "59358cde-e49a-4f3d-b073-09f4cf98ddb0",
   "metadata": {},
   "source": [
    "# Deutsch's Algorithm\n",
    "\n",
    "https://qiskit.org/textbook/ch-algorithms/deutsch-jozsa.html\n",
    "\n",
    "***"
   ]
  },
  {
   "cell_type": "code",
   "execution_count": 1,
   "id": "ef376c61-9507-4c1f-8c26-0f9f27283502",
   "metadata": {},
   "outputs": [],
   "source": [
    "# Qiskit itself\n",
    "import qiskit"
   ]
  },
  {
   "cell_type": "code",
   "execution_count": 2,
   "id": "1bcda0e8-cad6-4d0e-ad5d-404b80cb7a90",
   "metadata": {},
   "outputs": [],
   "source": [
    "# Aer simulator.\n",
    "import qiskit.providers.aer as aer"
   ]
  },
  {
   "cell_type": "code",
   "execution_count": 3,
   "id": "b9aac548-a744-4c50-9dad-f20d76cdc695",
   "metadata": {},
   "outputs": [],
   "source": [
    "# Diagrams.\n",
    "import matplotlib.pyplot as plt"
   ]
  },
  {
   "cell_type": "code",
   "execution_count": 4,
   "id": "66012a94-ce2b-4c99-82ba-9af50039cb16",
   "metadata": {},
   "outputs": [],
   "source": [
    "# Change pyplot style.\n",
    "plt.style.use('ggplot')"
   ]
  },
  {
   "cell_type": "markdown",
   "id": "1088ac07-945d-4c2a-a65d-a6d81be78047",
   "metadata": {},
   "source": [
    "<br>\n",
    "\n",
    "## Constant zero function\n",
    "\n",
    "***"
   ]
  },
  {
   "cell_type": "code",
   "execution_count": 5,
   "id": "999dd7dc-0f2b-4d1c-b857-9e68a7ea76ea",
   "metadata": {},
   "outputs": [],
   "source": [
    "# Create a quantum circuit.\n",
    "circuit = qiskit.QuantumCircuit(2, 1)"
   ]
  },
  {
   "cell_type": "code",
   "execution_count": 6,
   "id": "a38ea2b9-7bfc-46a4-bead-bee3a150738d",
   "metadata": {},
   "outputs": [
    {
     "data": {
      "text/plain": [
       "<qiskit.circuit.instructionset.InstructionSet at 0x7f35464a5910>"
      ]
     },
     "execution_count": 6,
     "metadata": {},
     "output_type": "execute_result"
    }
   ],
   "source": [
    "# Initialise the first qubit to 0.\n",
    "circuit.initialize([1, 0], 0)"
   ]
  },
  {
   "cell_type": "code",
   "execution_count": 7,
   "id": "e3457e14-51c4-48c3-b64d-d152a46f49e4",
   "metadata": {},
   "outputs": [
    {
     "data": {
      "text/plain": [
       "<qiskit.circuit.instructionset.InstructionSet at 0x7f35464c0be0>"
      ]
     },
     "execution_count": 7,
     "metadata": {},
     "output_type": "execute_result"
    }
   ],
   "source": [
    "# Initialise the first qubit to 1.\n",
    "circuit.initialize([0, 1], 1)"
   ]
  },
  {
   "cell_type": "code",
   "execution_count": 8,
   "id": "b3402586-c190-46b5-9aa0-ab9eae432ee7",
   "metadata": {},
   "outputs": [
    {
     "data": {
      "text/plain": [
       "<qiskit.circuit.instructionset.InstructionSet at 0x7f35464a55e0>"
      ]
     },
     "execution_count": 8,
     "metadata": {},
     "output_type": "execute_result"
    }
   ],
   "source": [
    "# Apply a Hadamard gate to first qubit.\n",
    "circuit.h(0)"
   ]
  },
  {
   "cell_type": "code",
   "execution_count": 9,
   "id": "7d74276e-ab92-4826-ac17-f5023d1f0160",
   "metadata": {},
   "outputs": [
    {
     "data": {
      "text/plain": [
       "<qiskit.circuit.instructionset.InstructionSet at 0x7f354640e160>"
      ]
     },
     "execution_count": 9,
     "metadata": {},
     "output_type": "execute_result"
    }
   ],
   "source": [
    "# Apply a Hadamard gate to second qubit.\n",
    "circuit.h(1)"
   ]
  },
  {
   "cell_type": "code",
   "execution_count": 10,
   "id": "28551e4b-2f55-40a5-85b4-e13e40721050",
   "metadata": {},
   "outputs": [
    {
     "data": {
      "text/plain": [
       "<qiskit.circuit.instructionset.InstructionSet at 0x7f354640e3d0>"
      ]
     },
     "execution_count": 10,
     "metadata": {},
     "output_type": "execute_result"
    }
   ],
   "source": [
    "# Identity gate.\n",
    "circuit.i(1)"
   ]
  },
  {
   "cell_type": "code",
   "execution_count": 11,
   "id": "4796a62e-ea2f-4713-86b8-8b46a9c0400f",
   "metadata": {},
   "outputs": [
    {
     "data": {
      "text/plain": [
       "<qiskit.circuit.instructionset.InstructionSet at 0x7f354640e820>"
      ]
     },
     "execution_count": 11,
     "metadata": {},
     "output_type": "execute_result"
    }
   ],
   "source": [
    "# Apply another Hadamard gate to the first qubit.\n",
    "circuit.h(0)"
   ]
  },
  {
   "cell_type": "code",
   "execution_count": 12,
   "id": "58b0e343-ec1e-4bcb-ae50-03491f42f33e",
   "metadata": {},
   "outputs": [
    {
     "data": {
      "text/plain": [
       "<qiskit.circuit.instructionset.InstructionSet at 0x7f35c46c8cd0>"
      ]
     },
     "execution_count": 12,
     "metadata": {},
     "output_type": "execute_result"
    }
   ],
   "source": [
    "# Measure the first qubit.\n",
    "circuit.measure(0, 0)"
   ]
  },
  {
   "cell_type": "code",
   "execution_count": 13,
   "id": "41599816-a507-40d3-b80a-9ff57fd0f821",
   "metadata": {},
   "outputs": [
    {
     "data": {
      "image/png": "[encoded data removed]",
      "text/plain": [
       "<Figure size 589.054x368.424 with 1 Axes>"
      ]
     },
     "execution_count": 13,
     "metadata": {},
     "output_type": "execute_result"
    }
   ],
   "source": [
    "circuit.draw(output='mpl', scale=1.8)"
   ]
  },
  {
   "cell_type": "code",
   "execution_count": 14,
   "id": "2aae87e1-4519-4d2f-9b1a-14a1ed6c8982",
   "metadata": {},
   "outputs": [],
   "source": [
    "# Create a simulation instance.\n",
    "simulator = aer.QasmSimulator()"
   ]
  },
  {
   "cell_type": "code",
   "execution_count": 15,
   "id": "f6ddb5c4-a28f-4930-ae63-f39d4805e35f",
   "metadata": {},
   "outputs": [],
   "source": [
    "# Compile the circuit in the simluator.\n",
    "compcircuit = qiskit.transpile(circuit, simulator)"
   ]
  },
  {
   "cell_type": "code",
   "execution_count": 16,
   "id": "9e056502-22cb-4dbc-ad1a-5490a1a2a47d",
   "metadata": {},
   "outputs": [],
   "source": [
    "# Simulate the circuit 500 times.\n",
    "job = simulator.run(compcircuit, shots=500)"
   ]
  },
  {
   "cell_type": "code",
   "execution_count": 17,
   "id": "3375a675-16f5-4546-8db0-84eeb9e91c7e",
   "metadata": {},
   "outputs": [],
   "source": [
    "# Get the results.\n",
    "results = job.result()"
   ]
  },
  {
   "cell_type": "code",
   "execution_count": 18,
   "id": "9fe4c37e-82ca-4768-b17e-bc5a40b046eb",
   "metadata": {},
   "outputs": [
    {
     "data": {
      "text/plain": [
       "{'0': 500}"
      ]
     },
     "execution_count": 18,
     "metadata": {},
     "output_type": "execute_result"
    }
   ],
   "source": [
    "# Show the result counts.\n",
    "results.get_counts()"
   ]
  },
  {
   "cell_type": "markdown",
   "id": "b2c079a6-12d7-4268-83f9-1970a4161f83",
   "metadata": {},
   "source": [
    "***\n",
    "## End"
   ]
  }
 ],
 "metadata": {
  "kernelspec": {
   "display_name": "Python 3 (ipykernel)",
   "language": "python",
   "name": "python3"
  },
  "language_info": {
   "codemirror_mode": {
    "name": "ipython",
    "version": 3
   },
   "file_extension": ".py",
   "mimetype": "text/x-python",
   "name": "python",
   "nbconvert_exporter": "python",
   "pygments_lexer": "ipython3",
   "version": "3.9.7"
  }
 },
 "nbformat": 4,
 "nbformat_minor": 5
}
