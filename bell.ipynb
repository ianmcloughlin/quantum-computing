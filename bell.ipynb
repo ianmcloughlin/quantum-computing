{
 "cells": [
  {
   "cell_type": "markdown",
   "id": "22153b91-8431-49d8-b1d2-9b302769210d",
   "metadata": {},
   "source": [
    "# Bell State\n",
    "\n",
    "https://en.wikipedia.org/wiki/Bell_state\n",
    "\n",
    "***"
   ]
  },
  {
   "cell_type": "code",
   "execution_count": 1,
   "id": "07b6b4d4-d4ba-4cd9-9abb-d277f5d936fb",
   "metadata": {},
   "outputs": [],
   "source": [
    "# Qiskit itself\n",
    "import qiskit\n",
    "\n",
    "# Aer simulator.\n",
    "import qiskit.providers.aer as aer\n",
    "\n",
    "# Diagrams.\n",
    "import matplotlib.pyplot as plt\n",
    "\n",
    "# Random numbers.\n",
    "import random\n",
    "\n",
    "# Change pyplot style.\n",
    "plt.style.use('ggplot')"
   ]
  },
  {
   "cell_type": "code",
   "execution_count": 5,
   "id": "3520cbed-edc1-44c2-b658-c2f9c4a0fd0e",
   "metadata": {},
   "outputs": [
    {
     "data": {
      "image/png": "[encoded data removed]",
      "text/plain": [
       "<Figure size 697.414x368.424 with 1 Axes>"
      ]
     },
     "execution_count": 5,
     "metadata": {},
     "output_type": "execute_result"
    }
   ],
   "source": [
    "# Create a quantum circuit.\n",
    "circuit = qiskit.QuantumCircuit(2, 2)\n",
    "\n",
    "# Initialise the first qubit to |0>.\n",
    "circuit.initialize([1, 0], 0)\n",
    "\n",
    "# Initialise the second qubit to |0>.\n",
    "circuit.initialize([1, 0], 1)\n",
    "\n",
    "# Apply a Hadamard gate to first qubit.\n",
    "circuit.h(0)\n",
    "\n",
    "# CNOT from 0 to 1.\n",
    "circuit.cnot(0, 1)\n",
    "\n",
    "# Measure qubits.\n",
    "circuit.measure((0, 1), (0, 1))\n",
    "\n",
    "# Draw the circuit.\n",
    "circuit.draw(output='mpl', scale=1.8)"
   ]
  },
  {
   "cell_type": "code",
   "execution_count": 6,
   "id": "b0332997-2cee-4123-bb87-e87e99174230",
   "metadata": {},
   "outputs": [
    {
     "data": {
      "image/png": "[encoded data removed]",
      "text/plain": [
       "<Figure size 72x288 with 1 Axes>"
      ]
     },
     "execution_count": 6,
     "metadata": {},
     "output_type": "execute_result"
    }
   ],
   "source": [
    "# Create a simulation instance.\n",
    "simulator = aer.QasmSimulator()\n",
    "\n",
    "# Compile the circuit in the simluator.\n",
    "compcircuit = qiskit.transpile(circuit, simulator)\n",
    "\n",
    "# Simulate the circuit 1000 times.\n",
    "job = simulator.run(compcircuit, shots=1000)\n",
    "\n",
    "# Get the results.\n",
    "results = job.result()\n",
    "\n",
    "# Show the result counts.\n",
    "counts = results.get_counts()\n",
    "\n",
    "# Display histogram\n",
    "qiskit.visualization.plot_histogram(counts, figsize=(1, 4))"
   ]
  },
  {
   "cell_type": "markdown",
   "id": "49dd0718-ae1b-40b7-b23b-cd1f2dd69410",
   "metadata": {},
   "source": [
    "<br>\n",
    "\n",
    "## Matrices\n",
    "\n",
    "***\n",
    "\n",
    "$ |00\\rangle = \\begin{bmatrix} 1 \\\\ 0 \\\\ 0 \\\\ 0 \\end{bmatrix}$\n",
    "\n",
    "$ H \\otimes I = \\begin{bmatrix} \\frac{1}{\\sqrt{2}} \\begin{bmatrix} 1 & 0 \\\\ 0 & 1 \\end{bmatrix} & \\frac{1}{\\sqrt{2}} \\begin{bmatrix} 1 & 0 \\\\ 0 & 1 \\end{bmatrix} \\\\ \\frac{1}{\\sqrt{2}} \\begin{bmatrix} 1 & 0 \\\\ 0 & 1 \\end{bmatrix} & - \\frac{1}{\\sqrt{2}} \\begin{bmatrix} 1 & 0 \\\\ 0 & 1 \\end{bmatrix} \\end{bmatrix} =  \\frac{1}{\\sqrt{2}} \\begin{bmatrix} 1 & 0 & 1 & 0 \\\\ 0 & 1 & 0 & 1 \\\\ 1 & 0 & 1 & 0 \\\\ 0 & 1 & 0 & -1 \\end{bmatrix}$\n",
    "\n",
    "$ CNOT = \\begin{bmatrix} 1 & 0 & 0 & 0 \\\\ 0 & 1 & 0 & 0 \\\\ 0 & 0 & 0 & 1 \\\\ 0 & 0 & 1 & 0 \\end{bmatrix} $"
   ]
  },
  {
   "cell_type": "markdown",
   "id": "de4d4377-2bf8-4b61-a429-2af4cfebed33",
   "metadata": {},
   "source": [
    "$ CNOT \\times H \\otimes I \\times |00\\rangle = \\begin{bmatrix} 1 & 0 & 0 & 0 \\\\ 0 & 1 & 0 & 0 \\\\ 0 & 0 & 0 & 1 \\\\ 0 & 0 & 1 & 0 \\end{bmatrix} \\frac{1}{\\sqrt{2}} \\begin{bmatrix} 1 & 0 & 1 & 0 \\\\ 0 & 1 & 0 & 1 \\\\ 1 & 0 & 1 & 0 \\\\ 0 & 1 & 0 & -1 \\end{bmatrix} \\begin{bmatrix} 1 \\\\ 0 \\\\ 0 \\\\ 0 \\end{bmatrix}  = \\frac{1}{\\sqrt{2}} \\begin{bmatrix} 1 & 0 & 0 & 0 \\\\ 0 & 1 & 0 & 0 \\\\ 0 & 0 & 0 & 1 \\\\ 0 & 0 & 1 & 0 \\end{bmatrix} \\begin{bmatrix} 1 \\\\ 0 \\\\ 1 \\\\ 0 \\end{bmatrix} = \\frac{1}{\\sqrt{2}} \\begin{bmatrix} 1 \\\\ 0 \\\\ 0 \\\\ 1 \\end{bmatrix}$"
   ]
  },
  {
   "cell_type": "markdown",
   "id": "4903800b-9c4f-4f01-8a82-40f0eec430bf",
   "metadata": {},
   "source": [
    "***\n",
    "\n",
    "## End"
   ]
  }
 ],
 "metadata": {
  "kernelspec": {
   "display_name": "Python 3 (ipykernel)",
   "language": "python",
   "name": "python3"
  },
  "language_info": {
   "codemirror_mode": {
    "name": "ipython",
    "version": 3
   },
   "file_extension": ".py",
   "mimetype": "text/x-python",
   "name": "python",
   "nbconvert_exporter": "python",
   "pygments_lexer": "ipython3",
   "version": "3.8.12"
  }
 },
 "nbformat": 4,
 "nbformat_minor": 5
}
